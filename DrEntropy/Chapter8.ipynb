{
 "cells": [
  {
   "cell_type": "markdown",
   "metadata": {},
   "source": [
    "## Chapter 8\n",
    "\n",
    "I read this chapter, but skipped any exercises that required me to write code, as I did this in Stat Rethink .    Someday might come back and revisit this when I need a refreshser, although I think this chapter is not very well written to be honest."
   ]
  },
  {
   "cell_type": "markdown",
   "metadata": {},
   "source": []
  }
 ],
 "metadata": {
  "language_info": {
   "name": "python"
  }
 },
 "nbformat": 4,
 "nbformat_minor": 2
}
