{
 "cells": [
  {
   "cell_type": "code",
   "execution_count": 2,
   "metadata": {},
   "outputs": [],
   "source": [
    "import arviz as az\n",
    "import matplotlib.pyplot as plt\n",
    "import numpy as np\n",
    "import pandas as pd\n",
    "import pymc as pm\n",
    "import preliz as pz"
   ]
  },
  {
   "cell_type": "markdown",
   "metadata": {},
   "source": [
    "Chapter 3 exercise 3, a hierarchical version of the tips example from Chapter 2, by partially pooling across the days of the week. Compare the results to those obtained without the hierarchical structure."
   ]
  },
  {
   "cell_type": "markdown",
   "metadata": {},
   "source": [
    "Retrieve the example from chapter 2:"
   ]
  },
  {
   "cell_type": "code",
   "execution_count": 7,
   "metadata": {},
   "outputs": [
    {
     "name": "stderr",
     "output_type": "stream",
     "text": [
      "Auto-assigning NUTS sampler...\n",
      "Initializing NUTS using jitter+adapt_diag...\n",
      "Multiprocess sampling (4 chains in 4 jobs)\n",
      "NUTS: [μ, σ]\n"
     ]
    },
    {
     "data": {
      "text/html": [
       "\n",
       "<style>\n",
       "    /* Turns off some styling */\n",
       "    progress {\n",
       "        /* gets rid of default border in Firefox and Opera. */\n",
       "        border: none;\n",
       "        /* Needs to be in here for Safari polyfill so background images work as expected. */\n",
       "        background-size: auto;\n",
       "    }\n",
       "    progress:not([value]), progress:not([value])::-webkit-progress-bar {\n",
       "        background: repeating-linear-gradient(45deg, #7e7e7e, #7e7e7e 10px, #5c5c5c 10px, #5c5c5c 20px);\n",
       "    }\n",
       "    .progress-bar-interrupted, .progress-bar-interrupted::-webkit-progress-bar {\n",
       "        background: #F44336;\n",
       "    }\n",
       "</style>\n"
      ],
      "text/plain": [
       "<IPython.core.display.HTML object>"
      ]
     },
     "metadata": {},
     "output_type": "display_data"
    },
    {
     "data": {
      "text/html": [
       "\n",
       "    <div>\n",
       "      <progress value='8000' class='' max='8000' style='width:300px; height:20px; vertical-align: middle;'></progress>\n",
       "      100.00% [8000/8000 00:00&lt;00:00 Sampling 4 chains, 0 divergences]\n",
       "    </div>\n",
       "    "
      ],
      "text/plain": [
       "<IPython.core.display.HTML object>"
      ]
     },
     "metadata": {},
     "output_type": "display_data"
    },
    {
     "name": "stderr",
     "output_type": "stream",
     "text": [
      "Sampling 4 chains for 1_000 tune and 1_000 draw iterations (4_000 + 4_000 draws total) took 1 seconds.\n"
     ]
    },
    {
     "data": {
      "text/html": [
       "<div>\n",
       "<style scoped>\n",
       "    .dataframe tbody tr th:only-of-type {\n",
       "        vertical-align: middle;\n",
       "    }\n",
       "\n",
       "    .dataframe tbody tr th {\n",
       "        vertical-align: top;\n",
       "    }\n",
       "\n",
       "    .dataframe thead th {\n",
       "        text-align: right;\n",
       "    }\n",
       "</style>\n",
       "<table border=\"1\" class=\"dataframe\">\n",
       "  <thead>\n",
       "    <tr style=\"text-align: right;\">\n",
       "      <th></th>\n",
       "      <th>mean</th>\n",
       "      <th>sd</th>\n",
       "      <th>hdi_3%</th>\n",
       "      <th>hdi_97%</th>\n",
       "      <th>mcse_mean</th>\n",
       "      <th>mcse_sd</th>\n",
       "      <th>ess_bulk</th>\n",
       "      <th>ess_tail</th>\n",
       "      <th>r_hat</th>\n",
       "    </tr>\n",
       "  </thead>\n",
       "  <tbody>\n",
       "    <tr>\n",
       "      <th>μ[Thur]</th>\n",
       "      <td>2.78</td>\n",
       "      <td>0.15</td>\n",
       "      <td>2.49</td>\n",
       "      <td>3.06</td>\n",
       "      <td>0.0</td>\n",
       "      <td>0.0</td>\n",
       "      <td>4186.29</td>\n",
       "      <td>2913.62</td>\n",
       "      <td>1.0</td>\n",
       "    </tr>\n",
       "    <tr>\n",
       "      <th>μ[Fri]</th>\n",
       "      <td>2.77</td>\n",
       "      <td>0.25</td>\n",
       "      <td>2.28</td>\n",
       "      <td>3.22</td>\n",
       "      <td>0.0</td>\n",
       "      <td>0.0</td>\n",
       "      <td>4621.06</td>\n",
       "      <td>2799.59</td>\n",
       "      <td>1.0</td>\n",
       "    </tr>\n",
       "    <tr>\n",
       "      <th>μ[Sat]</th>\n",
       "      <td>3.00</td>\n",
       "      <td>0.15</td>\n",
       "      <td>2.72</td>\n",
       "      <td>3.28</td>\n",
       "      <td>0.0</td>\n",
       "      <td>0.0</td>\n",
       "      <td>3898.08</td>\n",
       "      <td>2815.31</td>\n",
       "      <td>1.0</td>\n",
       "    </tr>\n",
       "    <tr>\n",
       "      <th>μ[Sun]</th>\n",
       "      <td>3.26</td>\n",
       "      <td>0.15</td>\n",
       "      <td>2.97</td>\n",
       "      <td>3.52</td>\n",
       "      <td>0.0</td>\n",
       "      <td>0.0</td>\n",
       "      <td>4125.59</td>\n",
       "      <td>2576.70</td>\n",
       "      <td>1.0</td>\n",
       "    </tr>\n",
       "    <tr>\n",
       "      <th>σ[Thur]</th>\n",
       "      <td>1.16</td>\n",
       "      <td>0.12</td>\n",
       "      <td>0.93</td>\n",
       "      <td>1.37</td>\n",
       "      <td>0.0</td>\n",
       "      <td>0.0</td>\n",
       "      <td>4415.38</td>\n",
       "      <td>2942.90</td>\n",
       "      <td>1.0</td>\n",
       "    </tr>\n",
       "    <tr>\n",
       "      <th>σ[Fri]</th>\n",
       "      <td>1.11</td>\n",
       "      <td>0.21</td>\n",
       "      <td>0.75</td>\n",
       "      <td>1.48</td>\n",
       "      <td>0.0</td>\n",
       "      <td>0.0</td>\n",
       "      <td>4372.62</td>\n",
       "      <td>3082.06</td>\n",
       "      <td>1.0</td>\n",
       "    </tr>\n",
       "    <tr>\n",
       "      <th>σ[Sat]</th>\n",
       "      <td>1.44</td>\n",
       "      <td>0.12</td>\n",
       "      <td>1.22</td>\n",
       "      <td>1.67</td>\n",
       "      <td>0.0</td>\n",
       "      <td>0.0</td>\n",
       "      <td>3933.41</td>\n",
       "      <td>3084.99</td>\n",
       "      <td>1.0</td>\n",
       "    </tr>\n",
       "    <tr>\n",
       "      <th>σ[Sun]</th>\n",
       "      <td>1.26</td>\n",
       "      <td>0.11</td>\n",
       "      <td>1.05</td>\n",
       "      <td>1.48</td>\n",
       "      <td>0.0</td>\n",
       "      <td>0.0</td>\n",
       "      <td>4185.37</td>\n",
       "      <td>3133.66</td>\n",
       "      <td>1.0</td>\n",
       "    </tr>\n",
       "  </tbody>\n",
       "</table>\n",
       "</div>"
      ],
      "text/plain": [
       "         mean    sd  hdi_3%  hdi_97%  mcse_mean  mcse_sd  ess_bulk  ess_tail  \\\n",
       "μ[Thur]  2.78  0.15    2.49     3.06        0.0      0.0   4186.29   2913.62   \n",
       "μ[Fri]   2.77  0.25    2.28     3.22        0.0      0.0   4621.06   2799.59   \n",
       "μ[Sat]   3.00  0.15    2.72     3.28        0.0      0.0   3898.08   2815.31   \n",
       "μ[Sun]   3.26  0.15    2.97     3.52        0.0      0.0   4125.59   2576.70   \n",
       "σ[Thur]  1.16  0.12    0.93     1.37        0.0      0.0   4415.38   2942.90   \n",
       "σ[Fri]   1.11  0.21    0.75     1.48        0.0      0.0   4372.62   3082.06   \n",
       "σ[Sat]   1.44  0.12    1.22     1.67        0.0      0.0   3933.41   3084.99   \n",
       "σ[Sun]   1.26  0.11    1.05     1.48        0.0      0.0   4185.37   3133.66   \n",
       "\n",
       "         r_hat  \n",
       "μ[Thur]    1.0  \n",
       "μ[Fri]     1.0  \n",
       "μ[Sat]     1.0  \n",
       "μ[Sun]     1.0  \n",
       "σ[Thur]    1.0  \n",
       "σ[Fri]     1.0  \n",
       "σ[Sat]     1.0  \n",
       "σ[Sun]     1.0  "
      ]
     },
     "execution_count": 7,
     "metadata": {},
     "output_type": "execute_result"
    }
   ],
   "source": [
    "tips = pd.read_csv(\"../code/data/tips.csv\")\n",
    "\n",
    "categories = np.array([\"Thur\", \"Fri\", \"Sat\", \"Sun\"])\n",
    "\n",
    "tip = tips[\"tip\"].values\n",
    "idx = pd.Categorical(tips[\"day\"], categories=categories).codes\n",
    "\n",
    "coords = {\"days\": categories, \"days_flat\":categories[idx]}\n",
    "\n",
    "with pm.Model(coords=coords) as comparing_groups:\n",
    "    μ = pm.HalfNormal(\"μ\", sigma=5, dims=\"days\")\n",
    "    σ = pm.HalfNormal(\"σ\", sigma=1, dims=\"days\")\n",
    "\n",
    "    y = pm.Gamma(\"y\", mu=μ[idx], sigma=σ[idx], observed=tip, dims=\"days_flat\")\n",
    "\n",
    "    idata_cg = pm.sample(random_seed=4591)\n",
    "az.summary(idata_cg, round_to=2)"
   ]
  },
  {
   "cell_type": "markdown",
   "metadata": {},
   "source": [
    "Multi-level model:"
   ]
  },
  {
   "cell_type": "code",
   "execution_count": 32,
   "metadata": {},
   "outputs": [
    {
     "name": "stderr",
     "output_type": "stream",
     "text": [
      "Auto-assigning NUTS sampler...\n",
      "Initializing NUTS using jitter+adapt_diag...\n",
      "Multiprocess sampling (4 chains in 4 jobs)\n",
      "NUTS: [mu_h, sigma_mu_h, z_mu, σ]\n"
     ]
    },
    {
     "data": {
      "text/html": [
       "\n",
       "<style>\n",
       "    /* Turns off some styling */\n",
       "    progress {\n",
       "        /* gets rid of default border in Firefox and Opera. */\n",
       "        border: none;\n",
       "        /* Needs to be in here for Safari polyfill so background images work as expected. */\n",
       "        background-size: auto;\n",
       "    }\n",
       "    progress:not([value]), progress:not([value])::-webkit-progress-bar {\n",
       "        background: repeating-linear-gradient(45deg, #7e7e7e, #7e7e7e 10px, #5c5c5c 10px, #5c5c5c 20px);\n",
       "    }\n",
       "    .progress-bar-interrupted, .progress-bar-interrupted::-webkit-progress-bar {\n",
       "        background: #F44336;\n",
       "    }\n",
       "</style>\n"
      ],
      "text/plain": [
       "<IPython.core.display.HTML object>"
      ]
     },
     "metadata": {},
     "output_type": "display_data"
    },
    {
     "data": {
      "text/html": [
       "\n",
       "    <div>\n",
       "      <progress value='8000' class='' max='8000' style='width:300px; height:20px; vertical-align: middle;'></progress>\n",
       "      100.00% [8000/8000 00:04&lt;00:00 Sampling 4 chains, 5 divergences]\n",
       "    </div>\n",
       "    "
      ],
      "text/plain": [
       "<IPython.core.display.HTML object>"
      ]
     },
     "metadata": {},
     "output_type": "display_data"
    },
    {
     "name": "stderr",
     "output_type": "stream",
     "text": [
      "Sampling 4 chains for 1_000 tune and 1_000 draw iterations (4_000 + 4_000 draws total) took 4 seconds.\n",
      "There were 5 divergences after tuning. Increase `target_accept` or reparameterize.\n",
      "/Users/ronaldlegere/miniconda3/envs/bap3/lib/python3.11/site-packages/arviz/utils.py:134: UserWarning: Items starting with ~: ['z_sigma'] have not been found and will be ignored\n",
      "  warnings.warn(\n"
     ]
    },
    {
     "data": {
      "text/html": [
       "<div>\n",
       "<style scoped>\n",
       "    .dataframe tbody tr th:only-of-type {\n",
       "        vertical-align: middle;\n",
       "    }\n",
       "\n",
       "    .dataframe tbody tr th {\n",
       "        vertical-align: top;\n",
       "    }\n",
       "\n",
       "    .dataframe thead th {\n",
       "        text-align: right;\n",
       "    }\n",
       "</style>\n",
       "<table border=\"1\" class=\"dataframe\">\n",
       "  <thead>\n",
       "    <tr style=\"text-align: right;\">\n",
       "      <th></th>\n",
       "      <th>mean</th>\n",
       "      <th>sd</th>\n",
       "      <th>hdi_3%</th>\n",
       "      <th>hdi_97%</th>\n",
       "      <th>mcse_mean</th>\n",
       "      <th>mcse_sd</th>\n",
       "      <th>ess_bulk</th>\n",
       "      <th>ess_tail</th>\n",
       "      <th>r_hat</th>\n",
       "    </tr>\n",
       "  </thead>\n",
       "  <tbody>\n",
       "    <tr>\n",
       "      <th>mu_h</th>\n",
       "      <td>2.98</td>\n",
       "      <td>0.19</td>\n",
       "      <td>2.58</td>\n",
       "      <td>3.33</td>\n",
       "      <td>0.01</td>\n",
       "      <td>0.01</td>\n",
       "      <td>1015.82</td>\n",
       "      <td>743.87</td>\n",
       "      <td>1.0</td>\n",
       "    </tr>\n",
       "    <tr>\n",
       "      <th>sigma_mu_h</th>\n",
       "      <td>0.28</td>\n",
       "      <td>0.22</td>\n",
       "      <td>0.00</td>\n",
       "      <td>0.66</td>\n",
       "      <td>0.01</td>\n",
       "      <td>0.01</td>\n",
       "      <td>890.95</td>\n",
       "      <td>865.87</td>\n",
       "      <td>1.0</td>\n",
       "    </tr>\n",
       "    <tr>\n",
       "      <th>σ[Thur]</th>\n",
       "      <td>1.19</td>\n",
       "      <td>0.13</td>\n",
       "      <td>0.96</td>\n",
       "      <td>1.43</td>\n",
       "      <td>0.00</td>\n",
       "      <td>0.00</td>\n",
       "      <td>2925.60</td>\n",
       "      <td>2683.83</td>\n",
       "      <td>1.0</td>\n",
       "    </tr>\n",
       "    <tr>\n",
       "      <th>σ[Fri]</th>\n",
       "      <td>1.15</td>\n",
       "      <td>0.21</td>\n",
       "      <td>0.81</td>\n",
       "      <td>1.57</td>\n",
       "      <td>0.00</td>\n",
       "      <td>0.00</td>\n",
       "      <td>2787.91</td>\n",
       "      <td>1965.60</td>\n",
       "      <td>1.0</td>\n",
       "    </tr>\n",
       "    <tr>\n",
       "      <th>σ[Sat]</th>\n",
       "      <td>1.44</td>\n",
       "      <td>0.12</td>\n",
       "      <td>1.22</td>\n",
       "      <td>1.67</td>\n",
       "      <td>0.00</td>\n",
       "      <td>0.00</td>\n",
       "      <td>3080.15</td>\n",
       "      <td>2139.80</td>\n",
       "      <td>1.0</td>\n",
       "    </tr>\n",
       "    <tr>\n",
       "      <th>σ[Sun]</th>\n",
       "      <td>1.23</td>\n",
       "      <td>0.11</td>\n",
       "      <td>1.03</td>\n",
       "      <td>1.44</td>\n",
       "      <td>0.00</td>\n",
       "      <td>0.00</td>\n",
       "      <td>3114.26</td>\n",
       "      <td>2397.32</td>\n",
       "      <td>1.0</td>\n",
       "    </tr>\n",
       "    <tr>\n",
       "      <th>μ[Thur]</th>\n",
       "      <td>2.86</td>\n",
       "      <td>0.14</td>\n",
       "      <td>2.60</td>\n",
       "      <td>3.13</td>\n",
       "      <td>0.00</td>\n",
       "      <td>0.00</td>\n",
       "      <td>2476.84</td>\n",
       "      <td>3021.62</td>\n",
       "      <td>1.0</td>\n",
       "    </tr>\n",
       "    <tr>\n",
       "      <th>μ[Fri]</th>\n",
       "      <td>2.89</td>\n",
       "      <td>0.20</td>\n",
       "      <td>2.48</td>\n",
       "      <td>3.24</td>\n",
       "      <td>0.00</td>\n",
       "      <td>0.00</td>\n",
       "      <td>2464.22</td>\n",
       "      <td>2739.77</td>\n",
       "      <td>1.0</td>\n",
       "    </tr>\n",
       "    <tr>\n",
       "      <th>μ[Sat]</th>\n",
       "      <td>3.00</td>\n",
       "      <td>0.13</td>\n",
       "      <td>2.76</td>\n",
       "      <td>3.25</td>\n",
       "      <td>0.00</td>\n",
       "      <td>0.00</td>\n",
       "      <td>3749.67</td>\n",
       "      <td>3162.35</td>\n",
       "      <td>1.0</td>\n",
       "    </tr>\n",
       "    <tr>\n",
       "      <th>μ[Sun]</th>\n",
       "      <td>3.16</td>\n",
       "      <td>0.14</td>\n",
       "      <td>2.90</td>\n",
       "      <td>3.43</td>\n",
       "      <td>0.00</td>\n",
       "      <td>0.00</td>\n",
       "      <td>2061.57</td>\n",
       "      <td>2727.09</td>\n",
       "      <td>1.0</td>\n",
       "    </tr>\n",
       "  </tbody>\n",
       "</table>\n",
       "</div>"
      ],
      "text/plain": [
       "            mean    sd  hdi_3%  hdi_97%  mcse_mean  mcse_sd  ess_bulk  \\\n",
       "mu_h        2.98  0.19    2.58     3.33       0.01     0.01   1015.82   \n",
       "sigma_mu_h  0.28  0.22    0.00     0.66       0.01     0.01    890.95   \n",
       "σ[Thur]     1.19  0.13    0.96     1.43       0.00     0.00   2925.60   \n",
       "σ[Fri]      1.15  0.21    0.81     1.57       0.00     0.00   2787.91   \n",
       "σ[Sat]      1.44  0.12    1.22     1.67       0.00     0.00   3080.15   \n",
       "σ[Sun]      1.23  0.11    1.03     1.44       0.00     0.00   3114.26   \n",
       "μ[Thur]     2.86  0.14    2.60     3.13       0.00     0.00   2476.84   \n",
       "μ[Fri]      2.89  0.20    2.48     3.24       0.00     0.00   2464.22   \n",
       "μ[Sat]      3.00  0.13    2.76     3.25       0.00     0.00   3749.67   \n",
       "μ[Sun]      3.16  0.14    2.90     3.43       0.00     0.00   2061.57   \n",
       "\n",
       "            ess_tail  r_hat  \n",
       "mu_h          743.87    1.0  \n",
       "sigma_mu_h    865.87    1.0  \n",
       "σ[Thur]      2683.83    1.0  \n",
       "σ[Fri]       1965.60    1.0  \n",
       "σ[Sat]       2139.80    1.0  \n",
       "σ[Sun]       2397.32    1.0  \n",
       "μ[Thur]      3021.62    1.0  \n",
       "μ[Fri]       2739.77    1.0  \n",
       "μ[Sat]       3162.35    1.0  \n",
       "μ[Sun]       2727.09    1.0  "
      ]
     },
     "execution_count": 32,
     "metadata": {},
     "output_type": "execute_result"
    }
   ],
   "source": [
    "with pm.Model(coords=coords) as comparing_groups_h:\n",
    "    mu_h = pm.HalfNormal(\"mu_h\", sigma=5)\n",
    "    sigma_mu_h = pm.Exponential(\"sigma_mu_h\",  1)\n",
    "    z_mu = pm.Normal(\"z_mu\", mu=0, sigma=1, dims=\"days\")\n",
    " \n",
    "    μ = pm.Deterministic(\"μ\", mu_h + z_mu * sigma_mu_h, dims = \"days\")\n",
    "    \n",
    "    # Note: i found that partial pooling sigma didnt do much to help here.\n",
    "    σ = pm.HalfNormal(\"σ\", sigma=1, dims=\"days\")\n",
    "\n",
    "    y = pm.Gamma(\"y\", mu=μ[idx], sigma=σ[idx], observed=tip, dims=\"days_flat\")\n",
    "\n",
    "    idata_cg_h = pm.sample(target_accept = 0.95,random_seed=4591)\n",
    "az.summary(idata_cg_h, round_to=2, var_names=[\"~z_mu\", \"~z_sigma\"])"
   ]
  },
  {
   "cell_type": "code",
   "execution_count": 33,
   "metadata": {},
   "outputs": [
    {
     "data": {
      "text/plain": [
       "array([<Axes: title={'center': '94.0% HDI'}>], dtype=object)"
      ]
     },
     "execution_count": 33,
     "metadata": {},
     "output_type": "execute_result"
    },
    {
     "data": {
      "image/png": "[encoded data removed]",
      "text/plain": [
       "<Figure size 600x600 with 1 Axes>"
      ]
     },
     "metadata": {},
     "output_type": "display_data"
    }
   ],
   "source": [
    "az.plot_forest([idata_cg, idata_cg_h], model_names=[\"comparing_groups\", \"comparing_groups_h\"],\n",
    "               combined = True, var_names=[\"μ\"], figsize=(6, 6))"
   ]
  },
  {
   "cell_type": "markdown",
   "metadata": {},
   "source": [
    "The hierarchical model has little effect, just a slight pulling toward teh group mean 2.9, except for friday where there were fewer samples"
   ]
  },
  {
   "cell_type": "code",
   "execution_count": 28,
   "metadata": {},
   "outputs": [
    {
     "data": {
      "text/plain": [
       "day\n",
       "Fri     19\n",
       "Sat     87\n",
       "Sun     76\n",
       "Thur    62\n",
       "dtype: int64"
      ]
     },
     "execution_count": 28,
     "metadata": {},
     "output_type": "execute_result"
    }
   ],
   "source": [
    "tips.groupby(\"day\").size()"
   ]
  },
  {
   "cell_type": "markdown",
   "metadata": {},
   "source": []
  }
 ],
 "metadata": {
  "kernelspec": {
   "display_name": "bap3",
   "language": "python",
   "name": "python3"
  },
  "language_info": {
   "codemirror_mode": {
    "name": "ipython",
    "version": 3
   },
   "file_extension": ".py",
   "mimetype": "text/x-python",
   "name": "python",
   "nbconvert_exporter": "python",
   "pygments_lexer": "ipython3",
   "version": "3.11.6"
  }
 },
 "nbformat": 4,
 "nbformat_minor": 2
}
